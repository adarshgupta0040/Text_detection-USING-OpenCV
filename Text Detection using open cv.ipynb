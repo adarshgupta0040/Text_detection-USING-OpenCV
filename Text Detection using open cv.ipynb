{
 "cells": [
  {
   "cell_type": "code",
   "execution_count": 1,
   "id": "4eb31cf0",
   "metadata": {},
   "outputs": [
    {
     "name": "stdout",
     "output_type": "stream",
     "text": [
      "Requirement already satisfied: pytesseract in c:\\users\\lenovo\\anaconda3\\lib\\site-packages (0.3.9)\n",
      "Requirement already satisfied: packaging>=21.3 in c:\\users\\lenovo\\anaconda3\\lib\\site-packages (from pytesseract) (21.3)\n",
      "Requirement already satisfied: Pillow>=8.0.0 in c:\\users\\lenovo\\anaconda3\\lib\\site-packages (from pytesseract) (8.4.0)\n",
      "Requirement already satisfied: pyparsing!=3.0.5,>=2.0.2 in c:\\users\\lenovo\\anaconda3\\lib\\site-packages (from packaging>=21.3->pytesseract) (3.0.4)\n",
      "Note: you may need to restart the kernel to use updated packages.\n"
     ]
    }
   ],
   "source": [
    "pip install pytesseract"
   ]
  },
  {
   "cell_type": "code",
   "execution_count": 12,
   "id": "970da49d",
   "metadata": {},
   "outputs": [],
   "source": [
    "import pytesseract"
   ]
  },
  {
   "cell_type": "code",
   "execution_count": 13,
   "id": "a3f236e7",
   "metadata": {},
   "outputs": [],
   "source": [
    "pytesseract.pytesseract.tesseract_cmd = 'C:\\\\Program Files\\\\Tesseract-OCR\\\\tesseract.exe'"
   ]
  },
  {
   "cell_type": "code",
   "execution_count": 14,
   "id": "236eac84",
   "metadata": {},
   "outputs": [],
   "source": [
    "import cv2 as cv"
   ]
  },
  {
   "cell_type": "code",
   "execution_count": 15,
   "id": "7fa0764f",
   "metadata": {},
   "outputs": [],
   "source": [
    "img=cv.imread(r\"C:\\Users\\Lenovo\\Desktop\\1.png\")"
   ]
  },
  {
   "cell_type": "code",
   "execution_count": 16,
   "id": "64a80bca",
   "metadata": {},
   "outputs": [],
   "source": [
    "#since tesseract accept RGB and opencv in BGR so need to convert it\n",
    "img=cv.cvtColor(img,cv.COLOR_RGB2BGR)"
   ]
  },
  {
   "cell_type": "code",
   "execution_count": 17,
   "id": "f9d62f09",
   "metadata": {},
   "outputs": [
    {
     "name": "stdout",
     "output_type": "stream",
     "text": [
      "A 85 516 128 566 0\n",
      "D 137 516 175 566 0\n",
      "A 180 516 222 566 0\n",
      "R 231 516 264 566 0\n",
      "S 270 515 300 567 0\n",
      "H 310 516 346 566 0\n",
      "G 374 515 414 567 0\n",
      "U 427 515 464 566 0\n",
      "P 478 516 508 566 0\n",
      "T 512 516 550 566 0\n",
      "A 552 516 594 566 0\n",
      "W 616 516 681 566 0\n",
      "O 688 515 732 567 0\n",
      "R 743 516 776 566 0\n",
      "K 786 516 818 566 0\n",
      "S 823 515 854 567 0\n",
      "H 863 516 899 566 0\n",
      "O 910 515 954 567 0\n",
      "P 965 516 995 566 0\n",
      "R 323 394 356 444 0\n",
      "o 363 393 397 432 0\n",
      "b 407 393 438 448 0\n",
      "o 427 393 463 448 0\n",
      "t 446 393 480 432 0\n",
      "i 485 393 523 446 0\n",
      "c 532 393 559 432 0\n",
      "s 565 393 590 432 0\n",
      "& 615 393 661 448 0\n",
      "A 684 394 727 444 0\n",
      "l 735 394 741 444 0\n",
      "1 140 172 161 208 0\n",
      "2 181 172 203 209 0\n",
      "3 222 171 245 209 0\n",
      "4 262 172 288 208 0\n",
      "5 306 171 328 208 0\n",
      "6 348 171 371 209 0\n",
      "7 389 172 413 208 0\n",
      "8 431 171 455 209 0\n",
      "9 473 171 496 209 0\n",
      "1 517 172 538 208 0\n",
      "0 543 171 568 209 0\n",
      "1 588 172 608 208 0\n",
      "1 616 172 637 208 0\n",
      "1 658 172 679 208 0\n",
      "2 686 172 708 209 0\n",
      "1 729 172 750 208 0\n",
      "3 756 171 778 209 0\n",
      "1 800 172 821 208 0\n",
      "4 825 172 851 208 0\n",
      "1 870 172 891 208 0\n",
      "5 897 171 920 208 0\n",
      "\n"
     ]
    }
   ],
   "source": [
    "print(pytesseract.image_to_boxes(img))"
   ]
  },
  {
   "cell_type": "code",
   "execution_count": 8,
   "id": "ba82b88e",
   "metadata": {},
   "outputs": [
    {
     "name": "stdout",
     "output_type": "stream",
     "text": [
      "['0', '85', '515', '995', '567', '0']\n",
      "['1', '140', '172', '161', '208', '0']\n",
      "['2', '181', '172', '203', '209', '0']\n",
      "['3', '222', '171', '245', '209', '0']\n",
      "['4', '262', '172', '288', '208', '0']\n",
      "['5', '306', '171', '328', '208', '0']\n",
      "['6', '348', '171', '371', '209', '0']\n",
      "['7', '389', '172', '413', '208', '0']\n",
      "['8', '431', '171', '455', '209', '0']\n",
      "['9', '473', '171', '496', '209', '0']\n",
      "['1', '517', '172', '538', '208', '0']\n",
      "['0', '543', '171', '568', '209', '0']\n",
      "['1', '588', '172', '608', '208', '0']\n",
      "['1', '616', '172', '637', '208', '0']\n",
      "['1', '658', '172', '679', '208', '0']\n",
      "['2', '686', '172', '708', '209', '0']\n",
      "['1', '729', '172', '750', '208', '0']\n",
      "['3', '756', '171', '778', '209', '0']\n",
      "['1', '800', '172', '821', '208', '0']\n",
      "['4', '825', '172', '851', '208', '0']\n",
      "['1', '870', '172', '891', '208', '0']\n",
      "['5', '897', '171', '920', '208', '0']\n"
     ]
    },
    {
     "data": {
      "text/plain": [
       "-1"
      ]
     },
     "execution_count": 8,
     "metadata": {},
     "output_type": "execute_result"
    }
   ],
   "source": [
    "# Detecting Characters\n",
    "\n",
    "# hImg,wImg,_=img.shape\n",
    "# cong=conf = r'--oem 3 --psm 6 outputbase digits'\n",
    "# boxes = pytesseract.image_to_boxes(img,config=cong)  #in output see X,Y,Height,width of each char\n",
    "# for b in boxes.splitlines():\n",
    "#     # print(b)\n",
    "#     b=b.split(\" \")\n",
    "#     print(b)\n",
    "#     x, y, w, h = int(b[1]), int(b[2]), int(b[3]), int(b[4])\n",
    "#     cv.rectangle(img,(x,hImg-y),(w,hImg-h),(0,0,255),3)\n",
    "#     cv.putText(img,b[0],(x,hImg-y+20),cv.FONT_HERSHEY_COMPLEX,1,(50,50,255),2)\n",
    "    \n",
    "# cv.imshow(\"Result\",img)\n",
    "# cv.waitKey(0)"
   ]
  },
  {
   "cell_type": "code",
   "execution_count": 9,
   "id": "e73cce12",
   "metadata": {},
   "outputs": [
    {
     "name": "stdout",
     "output_type": "stream",
     "text": [
      "['1', '1', '0', '0', '0', '0', '0', '0', '1152', '648', '-1']\n",
      "['2', '1', '1', '0', '0', '0', '138', '200', '785', '299', '-1']\n",
      "['3', '1', '1', '1', '0', '0', '138', '437', '785', '62', '-1']\n",
      "['4', '1', '1', '1', '1', '0', '138', '437', '785', '62', '-1']\n",
      "['5', '1', '1', '1', '1', '1', '138', '437', '785', '62', '0.000000', '8880890088']\n"
     ]
    },
    {
     "data": {
      "text/plain": [
       "-1"
      ]
     },
     "execution_count": 9,
     "metadata": {},
     "output_type": "execute_result"
    }
   ],
   "source": [
    "#Detecting only Digits\n",
    "\n",
    "# hImg,wImg,_=img.shape\n",
    "# cong=conf = r'--oem 3 --psm 6 outputbase digits'\n",
    "# boxes = pytesseract.image_to_data(img,config=cong)  #in output see X,Y,Height,width of each char\n",
    "# # print(boxes)\n",
    "# for x,b in enumerate(boxes.splitlines()):\n",
    "#     # print(b)\n",
    "#     if x!=0:\n",
    "#         b=b.split()\n",
    "#         print(b)\n",
    "#         if len(b)==12:\n",
    "#             x, y, w, h = int(b[6]), int(b[7]), int(b[8]), int(b[9])\n",
    "#             cv.rectangle(img,(x,y),(w+x,h+y),(0,0,255),3)\n",
    "#             cv.putText(img,b[11],(x,y),cv.FONT_HERSHEY_COMPLEX,1,(50,50,255),2)\n",
    "# cv.imshow(\"Result\",img)\n",
    "# cv.waitKey(0)"
   ]
  },
  {
   "cell_type": "code",
   "execution_count": null,
   "id": "894321d1",
   "metadata": {},
   "outputs": [],
   "source": []
  },
  {
   "cell_type": "code",
   "execution_count": null,
   "id": "cb635036",
   "metadata": {},
   "outputs": [],
   "source": []
  },
  {
   "cell_type": "code",
   "execution_count": 18,
   "id": "1f126794",
   "metadata": {},
   "outputs": [
    {
     "name": "stdout",
     "output_type": "stream",
     "text": [
      "['1', '1', '0', '0', '0', '0', '0', '0', '1152', '648', '-1']\n",
      "['2', '1', '1', '0', '0', '0', '85', '81', '910', '174', '-1']\n",
      "['3', '1', '1', '1', '0', '0', '85', '81', '910', '174', '-1']\n",
      "['4', '1', '1', '1', '1', '0', '85', '81', '910', '52', '-1']\n",
      "['5', '1', '1', '1', '1', '1', '85', '81', '261', '52', '92.861420', 'ADARSH']\n",
      "['5', '1', '1', '1', '1', '2', '374', '81', '220', '52', '94.879295', 'GUPTA']\n",
      "['5', '1', '1', '1', '1', '3', '616', '81', '379', '52', '94.879295', 'WORKSHOP']\n",
      "['4', '1', '1', '1', '2', '0', '323', '200', '418', '55', '-1']\n",
      "['5', '1', '1', '1', '2', '1', '323', '200', '267', '55', '92.923157', 'Robotics']\n",
      "['5', '1', '1', '1', '2', '2', '615', '200', '46', '55', '92.923157', '&']\n",
      "['5', '1', '1', '1', '2', '3', '684', '204', '57', '50', '96.044327', 'Al']\n",
      "['2', '1', '2', '0', '0', '0', '140', '439', '780', '38', '-1']\n",
      "['3', '1', '2', '1', '0', '0', '140', '439', '780', '38', '-1']\n",
      "['4', '1', '2', '1', '1', '0', '140', '439', '780', '38', '-1']\n",
      "['5', '1', '2', '1', '1', '1', '140', '439', '780', '38', '90.576523', '123456789101112131415']\n"
     ]
    },
    {
     "data": {
      "text/plain": [
       "-1"
      ]
     },
     "execution_count": 18,
     "metadata": {},
     "output_type": "execute_result"
    }
   ],
   "source": [
    "hImg,wImg,_=img.shape\n",
    "boxes = pytesseract.image_to_data(img)  #in output see X,Y,Height,width of each char\n",
    "# print(boxes)\n",
    "for x,b in enumerate(boxes.splitlines()):\n",
    "    # print(b)\n",
    "    if x!=0:\n",
    "        b=b.split()\n",
    "        print(b)\n",
    "        if len(b)==12:\n",
    "            x, y, w, h = int(b[6]), int(b[7]), int(b[8]), int(b[9])\n",
    "            cv.rectangle(img,(x,y),(w+x,h+y),(0,0,255),3)\n",
    "            cv.putText(img,b[11],(x,y),cv.FONT_HERSHEY_COMPLEX,1,(50,50,255),2)\n",
    "cv.imshow(\"Result\",img)\n",
    "cv.waitKey(0)"
   ]
  },
  {
   "cell_type": "code",
   "execution_count": 11,
   "id": "8ffe94eb",
   "metadata": {},
   "outputs": [
    {
     "name": "stdout",
     "output_type": "stream",
     "text": [
      "~ 83 489 998 590 0\n",
      "A 91 498 137 561 0\n",
      "D 103 498 229 512 0\n",
      "A 169 494 229 565 0\n",
      "D 143 517 195 583 0\n",
      "A 186 517 229 573 0\n",
      "R 240 519 256 561 0\n",
      "S 252 519 310 583 0\n",
      "H 316 519 339 577 0\n",
      "G 346 519 432 561 0\n",
      "U 433 519 478 561 0\n",
      "P 484 519 528 561 0\n",
      "T 534 519 567 561 0\n",
      "A 559 519 587 558 0\n",
      "W 632 519 674 561 0\n",
      "O 669 519 726 561 0\n",
      "R 724 519 768 577 0\n",
      "K 764 519 812 583 0\n",
      "S 792 519 863 561 0\n",
      "H 870 519 893 561 0\n",
      "O 899 519 947 561 0\n",
      "P 946 519 991 561 0\n",
      "R 321 390 356 470 0\n",
      "o 355 390 394 470 0\n",
      "b 424 465 429 470 0\n",
      "o 321 390 593 470 0\n",
      "t 460 390 490 470 0\n",
      "i 489 390 528 470 0\n",
      "c 527 390 557 470 0\n",
      "s 613 390 744 470 0\n",
      "& 614 359 653 474 0\n",
      "A 690 359 720 474 0\n",
      "l 719 359 749 474 0\n",
      "i 144 153 196 239 0\n",
      "e 184 153 240 242 0\n",
      "s 225 173 253 227 0\n",
      "e 342 151 492 221 0\n",
      "y 497 151 563 221 0\n",
      "O 594 129 809 254 0\n",
      "o 813 151 919 220 0\n",
      "~ 132 142 930 231 0\n",
      "\n"
     ]
    }
   ],
   "source": []
  },
  {
   "cell_type": "code",
   "execution_count": null,
   "id": "88f40d68",
   "metadata": {},
   "outputs": [],
   "source": []
  }
 ],
 "metadata": {
  "kernelspec": {
   "display_name": "Python 3 (ipykernel)",
   "language": "python",
   "name": "python3"
  },
  "language_info": {
   "codemirror_mode": {
    "name": "ipython",
    "version": 3
   },
   "file_extension": ".py",
   "mimetype": "text/x-python",
   "name": "python",
   "nbconvert_exporter": "python",
   "pygments_lexer": "ipython3",
   "version": "3.9.7"
  }
 },
 "nbformat": 4,
 "nbformat_minor": 5
}
